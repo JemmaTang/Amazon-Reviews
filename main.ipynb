{
 "cells": [
  {
   "cell_type": "code",
   "execution_count": 1,
   "metadata": {},
   "outputs": [],
   "source": [
    "import os, json, csv"
   ]
  },
  {
   "cell_type": "code",
   "execution_count": 2,
   "metadata": {},
   "outputs": [
    {
     "data": {
      "text/plain": [
       "['sample_reviews.json',\n",
       " 'sample_reviews.csv',\n",
       " 'review5.json',\n",
       " 'review5.csv',\n",
       " 'review4.json',\n",
       " 'review4.csv',\n",
       " 'review3.json',\n",
       " 'review3.csv',\n",
       " 'review2.json',\n",
       " 'review2.csv',\n",
       " 'review1.json',\n",
       " 'review1.csv',\n",
       " 'products.json']"
      ]
     },
     "execution_count": 2,
     "metadata": {},
     "output_type": "execute_result"
    }
   ],
   "source": [
    "#q1\n",
    "q1List = []\n",
    "q1List2 = []\n",
    "q1List = os.listdir(\"data\")\n",
    "q1List.sort(reverse = True)\n",
    "for i in range(len(q1List)):\n",
    "    if q1List[i].startswith(\".\") != True:\n",
    "        q1List2.append(q1List[i])\n",
    "q1List2"
   ]
  },
  {
   "cell_type": "code",
   "execution_count": 3,
   "metadata": {},
   "outputs": [
    {
     "data": {
      "text/plain": [
       "['data/sample_reviews.json',\n",
       " 'data/sample_reviews.csv',\n",
       " 'data/review5.json',\n",
       " 'data/review5.csv',\n",
       " 'data/review4.json',\n",
       " 'data/review4.csv',\n",
       " 'data/review3.json',\n",
       " 'data/review3.csv',\n",
       " 'data/review2.json',\n",
       " 'data/review2.csv',\n",
       " 'data/review1.json',\n",
       " 'data/review1.csv',\n",
       " 'data/products.json']"
      ]
     },
     "execution_count": 3,
     "metadata": {},
     "output_type": "execute_result"
    }
   ],
   "source": [
    "#q2\n",
    "q2List = []\n",
    "for i in range(len(q1List2)):\n",
    "    q2List.append(os.path.join(\"data\", q1List2[i]))\n",
    "q2List"
   ]
  },
  {
   "cell_type": "code",
   "execution_count": 4,
   "metadata": {},
   "outputs": [
    {
     "data": {
      "text/plain": [
       "['data/sample_reviews.json',\n",
       " 'data/review5.json',\n",
       " 'data/review4.json',\n",
       " 'data/review3.json',\n",
       " 'data/review2.json',\n",
       " 'data/review1.json',\n",
       " 'data/products.json']"
      ]
     },
     "execution_count": 4,
     "metadata": {},
     "output_type": "execute_result"
    }
   ],
   "source": [
    "#q3\n",
    "q3List = []\n",
    "for i in range(len(q2List)):\n",
    "    if \".json\" in q2List[i]:\n",
    "        q3List.append(q2List[i])\n",
    "q3List"
   ]
  },
  {
   "cell_type": "code",
   "execution_count": 5,
   "metadata": {},
   "outputs": [
    {
     "data": {
      "text/plain": [
       "['data/review5.json',\n",
       " 'data/review5.csv',\n",
       " 'data/review4.json',\n",
       " 'data/review4.csv',\n",
       " 'data/review3.json',\n",
       " 'data/review3.csv',\n",
       " 'data/review2.json',\n",
       " 'data/review2.csv',\n",
       " 'data/review1.json',\n",
       " 'data/review1.csv']"
      ]
     },
     "execution_count": 5,
     "metadata": {},
     "output_type": "execute_result"
    }
   ],
   "source": [
    "#q4\n",
    "q4List = []\n",
    "for i in range(len(q1List)):\n",
    "    if q1List[i].startswith(\"review\"):\n",
    "        q4List.append(os.path.join(\"data\", q1List[i]))\n",
    "q4List"
   ]
  },
  {
   "cell_type": "code",
   "execution_count": 6,
   "metadata": {},
   "outputs": [
    {
     "data": {
      "text/plain": [
       "{'B00QFQRELG': 'Amazon 9W PowerFast Official OEM USB Charger and Power Adapter for Fire Tablets and Kindle eReaders',\n",
       " 'B01BH83OOM': 'Amazon Tap Smart Assistant Alexa enabled (black) Brand New',\n",
       " 'B00ZV9PXP2': 'All-New Kindle E-reader - Black, 6\" Glare-Free Touchscreen Display, Wi-Fi - Includes Special Offers',\n",
       " 'B0751RGYJV': 'Amazon Echo (2nd Generation) Smart Assistant Oak Finish Priority Shipping',\n",
       " 'B00IOY8XWQ': 'Kindle Voyage E-reader, 6 High-Resolution Display (300 ppi) with Adaptive Built-in Light, PagePress Sensors, Wi-Fi - Includes Special Offers',\n",
       " 'B0752151W6': 'All-new Echo (2nd Generation) with improved sound, powered by Dolby, and a new design Walnut Finish',\n",
       " 'B018Y226XO': 'Fire Kids Edition Tablet, 7 Display, Wi-Fi, 16 GB, Pink Kid-Proof Case',\n",
       " 'B01ACEKAJY': 'All-New Fire HD 8 Tablet, 8 HD Display, Wi-Fi, 32 GB - Includes Special Offers, Black',\n",
       " 'B01AHB9CYG': 'All-New Fire HD 8 Tablet, 8 HD Display, Wi-Fi, 32 GB - Includes Special Offers, Magenta',\n",
       " 'B01AHB9CN2': 'All-New Fire HD 8 Tablet, 8 HD Display, Wi-Fi, 16 GB - Includes Special Offers, Magenta',\n",
       " 'B00VINDBJK': 'Kindle Oasis E-reader with Leather Charging Cover - Merlot, 6 High-Resolution Display (300 ppi), Wi-Fi - Includes Special Offers',\n",
       " 'B01AHB9C1E': 'Fire HD 8 Tablet with Alexa, 8 HD Display, 32 GB, Tangerine - with Special Offers',\n",
       " 'B018Y229OU': 'Fire Tablet, 7 Display, Wi-Fi, 8 GB - Includes Special Offers, Magenta'}"
      ]
     },
     "execution_count": 6,
     "metadata": {},
     "output_type": "execute_result"
    }
   ],
   "source": [
    "#q5\n",
    "import ast\n",
    "def read_json_file(name):\n",
    "    f = open(os.path.join(\"data\", name), encoding=\"utf-8\")\n",
    "    msg = f.read()\n",
    "    f.close()\n",
    "    return ast.literal_eval(msg)\n",
    "proDict = read_json_file(\"products.json\")\n",
    "proDict"
   ]
  },
  {
   "cell_type": "code",
   "execution_count": 7,
   "metadata": {},
   "outputs": [],
   "source": [
    "\n",
    "def read_csv_file(name):\n",
    "    rowList = []\n",
    "    f = open(os.path.join(\"data\", name), encoding=\"utf-8\")\n",
    "    reader = csv.DictReader(f)\n",
    "    for row in reader:\n",
    "        rowList.append(row)\n",
    "    f.close()\n",
    "    return rowList\n",
    "\n",
    "def find_review_text_by_id(reviewid, filename):\n",
    "    reviewtext = \"\"\n",
    "    review1List = read_csv_file(filename)\n",
    "    for i in range(len(review1List)):\n",
    "        if reviewid == review1List[i][\"review id\"]:\n",
    "            reviewtext = review1List[i][\"review text\"]\n",
    "    return reviewtext\n"
   ]
  },
  {
   "cell_type": "code",
   "execution_count": 8,
   "metadata": {},
   "outputs": [
    {
     "data": {
      "text/plain": [
       "'I would recommend this product. It works great and ver compact.'"
      ]
     },
     "execution_count": 8,
     "metadata": {},
     "output_type": "execute_result"
    }
   ],
   "source": [
    "#q6\n",
    "find_review_text_by_id(\"84440\", \"review1.csv\")"
   ]
  },
  {
   "cell_type": "code",
   "execution_count": 9,
   "metadata": {},
   "outputs": [
    {
     "data": {
      "text/plain": [
       "'Loveeeeeeeee........................................'"
      ]
     },
     "execution_count": 9,
     "metadata": {},
     "output_type": "execute_result"
    }
   ],
   "source": [
    "#q7\n",
    "csvList = []\n",
    "for i in range(len(q1List)):\n",
    "    if \".csv\" in q1List[i]:\n",
    "        csvList.append(q1List[i])\n",
    "for i in range(len(csvList)):\n",
    "    revTxt = find_review_text_by_id(\"28615\", csvList[i])\n",
    "    if revTxt != \"\":\n",
    "        break\n",
    "revTxt"
   ]
  },
  {
   "cell_type": "code",
   "execution_count": 10,
   "metadata": {},
   "outputs": [
    {
     "data": {
      "text/plain": [
       "'review2.csv'"
      ]
     },
     "execution_count": 10,
     "metadata": {},
     "output_type": "execute_result"
    }
   ],
   "source": [
    "#q8\n",
    "q8fileName = \"\"\n",
    "for i in range(len(csvList)):\n",
    "    revID = find_review_text_by_id(\"69273\", csvList[i])\n",
    "    if revID != \"\":\n",
    "        q8fileName = csvList[i]\n",
    "        break\n",
    "q8fileName"
   ]
  },
  {
   "cell_type": "code",
   "execution_count": 11,
   "metadata": {},
   "outputs": [
    {
     "data": {
      "text/plain": [
       "{'46663': ['Dmh1589', 'B018Y229OU'],\n",
       " '36363': ['Shoot2thril', 'B018Y229OU'],\n",
       " '15763': ['Barbara', 'B018Y229OU'],\n",
       " '5463': ['Elec8', 'B018Y229OU'],\n",
       " '54066': ['Silvrblur', 'B018Y229OU'],\n",
       " '33466': ['Trish', 'B018Y229OU'],\n",
       " '40869': ['airbear', 'B018Y229OU'],\n",
       " '30569': ['lorphe', 'B018Y229OU'],\n",
       " '89472': ['felix', 'B018Y229OU'],\n",
       " '48272': ['Bull99', 'B018Y229OU']}"
      ]
     },
     "execution_count": 11,
     "metadata": {},
     "output_type": "execute_result"
    }
   ],
   "source": [
    "#q9\n",
    "read_json_file(\"sample_reviews.json\")"
   ]
  },
  {
   "cell_type": "code",
   "execution_count": 12,
   "metadata": {},
   "outputs": [
    {
     "data": {
      "text/plain": [
       "[Review(id=46663, username='Dmh1589', asin='B018Y229OU', title='Nice for kids', text='Easy to use. Memory fills up fast though. Battery life is decent.', rating=4, do_recommend=True, num_helpful=0, date='2016-12-23'),\n",
       " Review(id=36363, username='Shoot2thril', asin='B018Y229OU', title='Great tablet', text='Great tablet for the price. I already have 3 followers including the hd.', rating=5, do_recommend=True, num_helpful=0, date='2016-12-23'),\n",
       " Review(id=15763, username='Barbara', asin='B018Y229OU', title='Great tablet', text='Excellent tablet. Love the size. Fits perfectly in my purse. I would recommend this tablet.', rating=5, do_recommend=True, num_helpful=0, date='2016-12-23'),\n",
       " Review(id=5463, username='Elec8', asin='B018Y229OU', title='Great budget tablet', text='Great tablet for kids. Good for Netflix and YouTube.', rating=5, do_recommend=True, num_helpful=0, date='2016-12-23'),\n",
       " Review(id=54066, username='Silvrblur', asin='B018Y229OU', title='Great tablet for the price.', text='I bought this tablet for my 9 year old nephew and he loves it. It is easy to setup and very user friendly. Picked up a case for protection.Buy far the best bang for your buck for an entry level tablet.', rating=5, do_recommend=True, num_helpful=0, date='2016-12-23'),\n",
       " Review(id=33466, username='Trish', asin='B018Y229OU', title='Love it', text='My sister in law is in love with this. Best gift ever for her', rating=5, do_recommend=True, num_helpful=0, date='2016-12-23'),\n",
       " Review(id=40869, username='airbear', asin='B018Y229OU', title='Love it', text='Love it so much. So easy to use even for my little kids.', rating=5, do_recommend=True, num_helpful=0, date='2016-12-23'),\n",
       " Review(id=30569, username='lorphe', asin='B018Y229OU', title='Stand Amazon Tablet', text='Works well for the money. Got it from Black Friday deal. User friendly', rating=4, do_recommend=True, num_helpful=0, date='2016-12-23'),\n",
       " Review(id=89472, username='felix', asin='B018Y229OU', title='great ipad', text='i brought this for my kids and no regret. Make sure you buy a case protector along with it.', rating=5, do_recommend=True, num_helpful=0, date='2016-12-23'),\n",
       " Review(id=48272, username='Bull99', asin='B018Y229OU', title='Works great', text='This tablet is so compact and fit in my purse. It works very well.', rating=5, do_recommend=True, num_helpful=0, date='2016-12-23')]"
      ]
     },
     "execution_count": 12,
     "metadata": {},
     "output_type": "execute_result"
    }
   ],
   "source": [
    "#q10\n",
    "import collections, distutils.util\n",
    "Review = collections.namedtuple('Review',[\"id\", \"username\", \"asin\", \"title\", \"text\", \"rating\", \"do_recommend\", \"num_helpful\", \"date\"])\n",
    "def get_reviews(csvfile, jsonfile):\n",
    "    reviewList = []\n",
    "    csvLis = read_csv_file(csvfile)\n",
    "    jsonDic = read_json_file(jsonfile)\n",
    "    for i in range(len(csvLis)):\n",
    "        if csvLis[i][\"review id\"] == '' or csvLis[i][\"review title\"] == \"\" or csvLis[i][\"review text\"] == \"\" or csvLis[i][\"review rating\"] == '' or csvLis[i][\"review do_recommend\"] == None or csvLis[i][\"review num_helpful\"] == '' or csvLis[i][\"review date\"] == None:\n",
    "            continue\n",
    "        else:\n",
    "            if csvLis[i][\"review do_recommend\"].isdigit() == True or csvLis[i][\"review rating\"].isdigit() == False :\n",
    "                continue\n",
    "        review = Review(int(csvLis[i][\"review id\"]), jsonDic[csvLis[i][\"review id\"]][0], jsonDic[csvLis[i][\"review id\"]][1], csvLis[i][\"review title\"], csvLis[i][\"review text\"], int(csvLis[i][\"review rating\"]), bool(distutils.util.strtobool(csvLis[i][\"review do_recommend\"])), int(csvLis[i][\"review num_helpful\"]), csvLis[i][\"review date\"])\n",
    "        reviewList.append(review)\n",
    "    return reviewList\n",
    "get_reviews('sample_reviews.csv', 'sample_reviews.json')        "
   ]
  },
  {
   "cell_type": "code",
   "execution_count": 13,
   "metadata": {},
   "outputs": [
    {
     "data": {
      "text/plain": [
       "[Review(id=46663, username='Dmh1589', asin='B018Y229OU', title='Nice for kids', text='Easy to use. Memory fills up fast though. Battery life is decent.', rating=4, do_recommend=True, num_helpful=0, date='2016-12-23'),\n",
       " Review(id=36363, username='Shoot2thril', asin='B018Y229OU', title='Great tablet', text='Great tablet for the price. I already have 3 followers including the hd.', rating=5, do_recommend=True, num_helpful=0, date='2016-12-23'),\n",
       " Review(id=15763, username='Barbara', asin='B018Y229OU', title='Great tablet', text='Excellent tablet. Love the size. Fits perfectly in my purse. I would recommend this tablet.', rating=5, do_recommend=True, num_helpful=0, date='2016-12-23'),\n",
       " Review(id=5463, username='Elec8', asin='B018Y229OU', title='Great budget tablet', text='Great tablet for kids. Good for Netflix and YouTube.', rating=5, do_recommend=True, num_helpful=0, date='2016-12-23'),\n",
       " Review(id=54066, username='Silvrblur', asin='B018Y229OU', title='Great tablet for the price.', text='I bought this tablet for my 9 year old nephew and he loves it. It is easy to setup and very user friendly. Picked up a case for protection.Buy far the best bang for your buck for an entry level tablet.', rating=5, do_recommend=True, num_helpful=0, date='2016-12-23'),\n",
       " Review(id=33466, username='Trish', asin='B018Y229OU', title='Love it', text='My sister in law is in love with this. Best gift ever for her', rating=5, do_recommend=True, num_helpful=0, date='2016-12-23'),\n",
       " Review(id=40869, username='airbear', asin='B018Y229OU', title='Love it', text='Love it so much. So easy to use even for my little kids.', rating=5, do_recommend=True, num_helpful=0, date='2016-12-23'),\n",
       " Review(id=30569, username='lorphe', asin='B018Y229OU', title='Stand Amazon Tablet', text='Works well for the money. Got it from Black Friday deal. User friendly', rating=4, do_recommend=True, num_helpful=0, date='2016-12-23'),\n",
       " Review(id=89472, username='felix', asin='B018Y229OU', title='great ipad', text='i brought this for my kids and no regret. Make sure you buy a case protector along with it.', rating=5, do_recommend=True, num_helpful=0, date='2016-12-23'),\n",
       " Review(id=48272, username='Bull99', asin='B018Y229OU', title='Works great', text='This tablet is so compact and fit in my purse. It works very well.', rating=5, do_recommend=True, num_helpful=0, date='2016-12-23')]"
      ]
     },
     "execution_count": 13,
     "metadata": {},
     "output_type": "execute_result"
    }
   ],
   "source": [
    "#q11\n",
    "get_reviews('review4.csv', 'review4.json')[0:10]\n"
   ]
  },
  {
   "cell_type": "code",
   "execution_count": 14,
   "metadata": {},
   "outputs": [
    {
     "data": {
      "text/plain": [
       "[Review(id=25136, username='Angrydagg', asin='B018Y229OU', title='Nice features for the price.', text='For the price this tables does everything I need. so far.', rating=4, do_recommend=True, num_helpful=0, date='2015-12-30'),\n",
       " Review(id=84039, username='Appman2015', asin='B018Y229OU', title='Great for xmas', text='So far I have bought three of these of tablets and they love it', rating=4, do_recommend=True, num_helpful=1, date='2015-12-30'),\n",
       " Review(id=22239, username='SuzieQ', asin='B018Y229OU', title='great for pre teens', text='i am glad i got them for my grand children they r enjoying them', rating=5, do_recommend=True, num_helpful=0, date='2015-12-31'),\n",
       " Review(id=70842, username='Gracie', asin='B018Y229OU', title='Great kindle', text='Purchase was good. Very easy to set up and use. Clear screen. Easy to charge. Would like more storage.', rating=5, do_recommend=True, num_helpful=0, date='2015-12-31'),\n",
       " Review(id=60542, username='Jeremyjeepster', asin='B018Y229OU', title='Good entry level tablet reader.', text='His is a very economical entry level tablet. Great for kids or for first time users.', rating=4, do_recommend=True, num_helpful=0, date='2015-12-31'),\n",
       " Review(id=9042, username='kinglowe78', asin='B018Y229OU', title='Good Deal', text='Real good deal. Nice present for those who want a tablet', rating=4, do_recommend=True, num_helpful=1, date='2016-01-01'),\n",
       " Review(id=98845, username='jamal', asin='B018Y229OU', title='good basic', text='Good gift for basic Internet use browsing emails .', rating=3, do_recommend=True, num_helpful=1, date='2016-01-01'),\n",
       " Review(id=88545, username='Abc1', asin='B018Y229OU', title='Lots of apps to play with', text='This is a good beginning tablet. Works well and has lots of preloaded apps to start you off.', rating=4, do_recommend=True, num_helpful=2, date='2016-01-01'),\n",
       " Review(id=47345, username='4Thrifty', asin='B018Y229OU', title='Great tablet', text='Well priced. Easy to operate. Fast and efficient. Great product.', rating=4, do_recommend=False, num_helpful=0, date='2016-01-02'),\n",
       " Review(id=54748, username='Sandycat19', asin='B018Y229OU', title='Good product fair price', text='Good for little ones who are just getting started on apps.', rating=5, do_recommend=True, num_helpful=0, date='2016-01-02')]"
      ]
     },
     "execution_count": 14,
     "metadata": {},
     "output_type": "execute_result"
    }
   ],
   "source": [
    "#q12\n",
    "q12List = get_reviews('review2.csv', 'review2.json')\n",
    "q12List.reverse()\n",
    "q12List[0:10]\n",
    "new12List = []\n",
    "for i in range(len(q12List[0:10])):\n",
    "    new12List.append(q12List[9-i])\n",
    "new12List"
   ]
  },
  {
   "cell_type": "code",
   "execution_count": 15,
   "metadata": {},
   "outputs": [
    {
     "data": {
      "text/plain": [
       "Review(id=25401, username='Brody16', asin='B018Y229OU', title='Wonderful for our grandsons', text='Love the ease of using them for our grandsons and they enjoyed them for Christmas', rating=1, do_recommend=True, num_helpful=0, date='2017-01-06')"
      ]
     },
     "execution_count": 15,
     "metadata": {},
     "output_type": "execute_result"
    }
   ],
   "source": [
    "#q13\n",
    "def find_reviews(csvfile, jsonfile, numID):\n",
    "    theList = get_reviews(csvfile, jsonfile)\n",
    "    for i in range(len(theList)):\n",
    "        if numID in theList[i]:\n",
    "            return theList[i]\n",
    "        \n",
    "\n",
    "find_reviews('review4.csv', 'review4.json', 25401)"
   ]
  },
  {
   "cell_type": "code",
   "execution_count": 16,
   "metadata": {},
   "outputs": [
    {
     "data": {
      "text/plain": [
       "Review(id=78626, username='Mijenx', asin='B01AHB9CN2', title='Ended up returning', text='I bought this tablet for my 4 year old daughter. Too many advertisements. I would rather pay more and not have a single ad.', rating=1, do_recommend=False, num_helpful=2, date='2016-11-25')"
      ]
     },
     "execution_count": 16,
     "metadata": {},
     "output_type": "execute_result"
    }
   ],
   "source": [
    "#q14\n",
    "find_reviews('review1.csv', 'review1.json', 78626)"
   ]
  },
  {
   "cell_type": "code",
   "execution_count": 86,
   "metadata": {},
   "outputs": [],
   "source": [
    "\n",
    "wholeList = get_reviews('review1.csv', 'review1.json') + get_reviews('review2.csv', 'review2.json') + get_reviews('review4.csv', 'review4.json') + get_reviews('review5.csv', 'review5.json')\n",
    "userList = []\n",
    "q15List = []\n",
    "for i in range(len(wholeList)):\n",
    "    userList.append(wholeList[i][1])\n",
    "userList.sort(reverse = True)"
   ]
  },
  {
   "cell_type": "code",
   "execution_count": 87,
   "metadata": {},
   "outputs": [
    {
     "data": {
      "text/plain": [
       "[Review(id=29325, username='zerofighterblue', asin='B018Y229OU', title='cant live without', text='have a kindle with a broken screen. bought originally for 99.00. now regular price is 49.99 and were on sale black Friday for 34.99. got 2 more.', rating=5, do_recommend=True, num_helpful=1, date='2015-12-10'),\n",
       " Review(id=96947, username='zedog83', asin='B01AHB9CN2', title='Great for kids', text='Bought this for our 6 year old daughter and she uses it daily. She enjoys watching movies on it and playing learning games. So far it has been very durable and battery life has been great.', rating=5, do_recommend=True, num_helpful=0, date='2017-01-18'),\n",
       " Review(id=77499, username='zcraig7', asin='B018Y229OU', title='Awesome picture quality', text='I bought two of these for black friday and the kids love them', rating=5, do_recommend=True, num_helpful=0, date='2016-01-04'),\n",
       " Review(id=48890, username='zarm7', asin='B018Y229OU', title='This is a nice tablet', text='I bought it for reading books. And it works very well for that purpose.', rating=4, do_recommend=True, num_helpful=0, date='2016-09-02'),\n",
       " Review(id=84641, username='zabintenn', asin='B018Y229OU', title='Good tablet', text='I bought this tablet as a gift for my granddaughter to play games on. It is very easy for her to use and it is just the right size.', rating=4, do_recommend=True, num_helpful=0, date='2016-12-15'),\n",
       " Review(id=15839, username='zRoyals', asin='B01AHB9CN2', title='One of the best', text='Easy to use and elegant in design. Perfect Gift for Kids.', rating=5, do_recommend=True, num_helpful=0, date='2016-12-07'),\n",
       " Review(id=48019, username='yuty', asin='B01AHB9CN2', title='Terrifico', text='Great tablet for the price point....especially if you are big Amazon user.Expandable memory is a great feature.', rating=5, do_recommend=True, num_helpful=0, date='2017-01-07'),\n",
       " Review(id=63046, username='yuri', asin='B018Y229OU', title='great and cheap', text='Easy to use. Durable great material very happy with it.', rating=4, do_recommend=True, num_helpful=0, date='2016-01-08'),\n",
       " Review(id=37258, username='yroc', asin='B018Y229OU', title='excellent bargain', text='Excellent bargain and works for all purposes that a tablet is needed for.', rating=5, do_recommend=True, num_helpful=0, date='2015-12-28'),\n",
       " Review(id=64466, username='yosi', asin='B018Y226XO', title='great', text='great table for kids and parents control great gre', rating=5, do_recommend=True, num_helpful=0, date='2016-12-19')]"
      ]
     },
     "execution_count": 87,
     "metadata": {},
     "output_type": "execute_result"
    }
   ],
   "source": [
    "#q15\n",
    "for i in range(len(userList)):\n",
    "    for j in range(len(wholeList)):\n",
    "        if userList[i] in wholeList[j]:\n",
    "            q15List.append(wholeList[j])\n",
    "q15List[0:10]"
   ]
  },
  {
   "cell_type": "code",
   "execution_count": 19,
   "metadata": {},
   "outputs": [],
   "source": [
    "%matplotlib inline"
   ]
  },
  {
   "cell_type": "code",
   "execution_count": 20,
   "metadata": {},
   "outputs": [],
   "source": [
    "import pandas as pd\n",
    "\n",
    "def scatter(x, y, xlabel=\"please label me!\", ylabel=\"please label me!\"):\n",
    "    df = pd.DataFrame({\"x\":x, \"y\":y})\n",
    "    ax = df.plot.scatter(x=\"x\", y=\"y\", color=\"black\", fontsize=16, xlim=0, ylim=0)\n",
    "    ax.set_xlabel(xlabel, fontsize=16)\n",
    "    ax.set_ylabel(ylabel, fontsize=16)\n",
    "    ax.get_xaxis().get_major_formatter().set_scientific(False)\n",
    "    ax.get_yaxis().get_major_formatter().set_scientific(False)\n",
    "\n"
   ]
  },
  {
   "cell_type": "code",
   "execution_count": 21,
   "metadata": {},
   "outputs": [],
   "source": [
    "\n",
    "def buketize(targetCol):\n",
    "    valueList = []\n",
    "    numVal = 0\n",
    "    valDict = {}\n",
    "    for i in range(len(wholeList)):\n",
    "        value = getattr(wholeList[i], targetCol)\n",
    "        valueList.append(value)\n",
    "    valueList = list(set(valueList))\n",
    "    for i in range(len(valueList)):\n",
    "        for j in range(len(wholeList)):\n",
    "            if valueList[i] == getattr(wholeList[j], targetCol):\n",
    "                numVal += 1\n",
    "        valDict[valueList[i]] = numVal\n",
    "        numVal = 0\n",
    "    return valDict   \n"
   ]
  },
  {
   "cell_type": "code",
   "execution_count": 22,
   "metadata": {},
   "outputs": [
    {
     "data": {
      "text/plain": [
       "{'Mike': 4,\n",
       " '1234': 4,\n",
       " 'Susan': 4,\n",
       " 'Dave': 4,\n",
       " 'Missy': 4,\n",
       " 'James': 3,\n",
       " 'Grandma': 3,\n",
       " 'Frank': 3,\n",
       " 'Angie': 3,\n",
       " 'John': 3,\n",
       " 'Richard': 3,\n",
       " 'Chris': 3,\n",
       " 'Manny': 3,\n",
       " 'Susie': 3,\n",
       " 'Lisa': 3,\n",
       " 'steve': 3,\n",
       " 'Michael': 3,\n",
       " 'Steve': 3,\n",
       " 'Kathy': 3,\n",
       " 'Bubba': 3,\n",
       " 'paul': 3,\n",
       " 'Bill': 3}"
      ]
     },
     "execution_count": 22,
     "metadata": {},
     "output_type": "execute_result"
    }
   ],
   "source": [
    "#q16\n",
    "userRevDict = buketize(\"username\")\n",
    "numValList = []\n",
    "kDict = {}\n",
    "for v in userRevDict.values():\n",
    "    numValList.append(v)\n",
    "numValList.sort(reverse = True)\n",
    "for i in range(len(numValList[0:22])):\n",
    "    for k in userRevDict.keys():\n",
    "        if numValList[i] == userRevDict[k]:\n",
    "            kDict[k] = numValList[i]\n",
    "kDict"
   ]
  },
  {
   "cell_type": "code",
   "execution_count": 23,
   "metadata": {},
   "outputs": [
    {
     "data": {
      "text/plain": [
       "{'Rodge': 6,\n",
       " 'Kime': 5,\n",
       " 'trouble': 5,\n",
       " 'Mark': 5,\n",
       " '1Briansapp': 5,\n",
       " 'Ellen': 10,\n",
       " 'Karch': 5,\n",
       " 'Earthdog': 27,\n",
       " 'Raza': 5,\n",
       " 'Stuartc': 8,\n",
       " 'FrankW': 5}"
      ]
     },
     "execution_count": 23,
     "metadata": {},
     "output_type": "execute_result"
    }
   ],
   "source": [
    "#q17\n",
    "helpDict = {}\n",
    "valueList = []\n",
    "for i in range(len(wholeList)):\n",
    "    value = getattr(wholeList[i], \"username\")\n",
    "    valueList.append(value)\n",
    "userHelpDict = {}        \n",
    "valueList = list(set(valueList))\n",
    "for i in range(len(valueList)):\n",
    "    userHelpDict[valueList[i]] = 0\n",
    "    for j in range(len(wholeList)):\n",
    "        if valueList[i] == getattr(wholeList[j], \"username\"):\n",
    "            userHelpDict[valueList[i]] += getattr(wholeList[j], \"num_helpful\")\n",
    "for k,v in userHelpDict.items():\n",
    "    if v >= 5:\n",
    "        helpDict[k] = v\n",
    "helpDict\n",
    "        \n",
    "        "
   ]
  },
  {
   "cell_type": "code",
   "execution_count": 24,
   "metadata": {},
   "outputs": [
    {
     "data": {
      "image/png": "[encoded data removed]",
      "text/plain": [
       "<Figure size 432x288 with 1 Axes>"
      ]
     },
     "metadata": {
      "needs_background": "light"
     },
     "output_type": "display_data"
    }
   ],
   "source": [
    "#q18\n",
    "\n",
    "rateDict = buketize(\"rating\")\n",
    "lenTxt = 0\n",
    "avgLen = 0\n",
    "avgLenList = []\n",
    "kList = []\n",
    "for k,v in rateDict.items():\n",
    "    for i in range(len(wholeList)):\n",
    "        if k == getattr(wholeList[i], \"rating\"):\n",
    "            lenTxt += len(getattr(wholeList[i], \"text\"))\n",
    "    avgLen = lenTxt/v\n",
    "    avgLenList.append(avgLen)\n",
    "    kList.append(k)\n",
    "    avgLen = 0\n",
    "    lenTxt = 0\n",
    "scatter(kList, avgLenList, xlabel=\"Rating\", ylabel=\"Averate text length\")"
   ]
  },
  {
   "cell_type": "code",
   "execution_count": 25,
   "metadata": {},
   "outputs": [
    {
     "data": {
      "image/png": "[encoded data removed]",
      "text/plain": [
       "<Figure size 432x288 with 1 Axes>"
      ]
     },
     "metadata": {
      "needs_background": "light"
     },
     "output_type": "display_data"
    }
   ],
   "source": [
    "#q19\n",
    "perHelp = 0\n",
    "helpScore = 0\n",
    "perHelpList = []\n",
    "for k,v in rateDict.items():\n",
    "    for i in range(len(wholeList)):\n",
    "        if k == getattr(wholeList[i], \"rating\"):\n",
    "            if getattr(wholeList[i], \"num_helpful\")!=0:\n",
    "                helpScore += 1\n",
    "    perHelp = helpScore/v\n",
    "    perHelpList.append(perHelp)\n",
    "    perHelp = 0\n",
    "    helpScore = 0\n",
    "scatter(kList, perHelpList, xlabel=\"Rating\", ylabel=\"Percentage of helpful reviews\")"
   ]
  },
  {
   "cell_type": "code",
   "execution_count": 26,
   "metadata": {},
   "outputs": [],
   "source": [
    "\n",
    "asinDict = buketize(\"asin\")\n",
    "totRate = 0\n",
    "avgRate = 0\n",
    "proRateDict = {}\n",
    "for k,v in asinDict.items():\n",
    "    for i in range(len(wholeList)):\n",
    "        if k == getattr(wholeList[i], \"asin\"):\n",
    "            totRate += getattr(wholeList[i], \"rating\")\n",
    "    avgRate = totRate/v\n",
    "    proRateDict[k] = avgRate\n",
    "    avgRate = 0\n",
    "    totRate = 0\n"
   ]
  },
  {
   "cell_type": "code",
   "execution_count": 27,
   "metadata": {},
   "outputs": [
    {
     "data": {
      "text/plain": [
       "{'Kindle Voyage E-reader, 6 High-Resolution Display (300 ppi) with Adaptive Built-in Light, PagePress Sensors, Wi-Fi - Includes Special Offers': 4.666666666666667,\n",
       " 'All-New Fire HD 8 Tablet, 8 HD Display, Wi-Fi, 32 GB - Includes Special Offers, Black': 4.583333333333333,\n",
       " 'Amazon 9W PowerFast Official OEM USB Charger and Power Adapter for Fire Tablets and Kindle eReaders': 4.7272727272727275,\n",
       " 'All-New Fire HD 8 Tablet, 8 HD Display, Wi-Fi, 16 GB - Includes Special Offers, Magenta': 4.6,\n",
       " 'Fire Tablet, 7 Display, Wi-Fi, 8 GB - Includes Special Offers, Magenta': 4.506039150354019,\n",
       " 'All-New Kindle E-reader - Black, 6\" Glare-Free Touchscreen Display, Wi-Fi - Includes Special Offers': 4.590163934426229,\n",
       " 'All-New Fire HD 8 Tablet, 8 HD Display, Wi-Fi, 32 GB - Includes Special Offers, Magenta': 4.574468085106383,\n",
       " 'Kindle Oasis E-reader with Leather Charging Cover - Merlot, 6 High-Resolution Display (300 ppi), Wi-Fi - Includes Special Offers': 4.866666666666666,\n",
       " 'Amazon Tap Smart Assistant Alexa enabled (black) Brand New': 4.6909090909090905,\n",
       " 'Fire Kids Edition Tablet, 7 Display, Wi-Fi, 16 GB, Pink Kid-Proof Case': 4.603448275862069,\n",
       " 'All-new Echo (2nd Generation) with improved sound, powered by Dolby, and a new design Walnut Finish': 5.0,\n",
       " 'Fire HD 8 Tablet with Alexa, 8 HD Display, 32 GB, Tangerine - with Special Offers': 3.8333333333333335,\n",
       " 'Amazon Echo (2nd Generation) Smart Assistant Oak Finish Priority Shipping': 5.0}"
      ]
     },
     "execution_count": 27,
     "metadata": {},
     "output_type": "execute_result"
    }
   ],
   "source": [
    "#q20\n",
    "proRateDict2 = {}\n",
    "for k in proRateDict.keys():\n",
    "    for key in proDict.keys():\n",
    "        if k == key:\n",
    "            proRateDict2[proDict[key]] = proRateDict[k]\n",
    "proRateDict2"
   ]
  },
  {
   "cell_type": "code",
   "execution_count": 28,
   "metadata": {},
   "outputs": [
    {
     "data": {
      "image/png": "[encoded data removed]",
      "text/plain": [
       "<Figure size 432x288 with 1 Axes>"
      ]
     },
     "metadata": {
      "needs_background": "light"
     },
     "output_type": "display_data"
    }
   ],
   "source": [
    "#q21\n",
    "numTxt = 0\n",
    "numTxtList = []\n",
    "vList = []\n",
    "for k,v in proRateDict.items():\n",
    "    for i in range(len(wholeList)):\n",
    "        if k == getattr(wholeList[i], \"asin\"):\n",
    "            numTxt += 1\n",
    "    numTxtList.append(numTxt)\n",
    "    numTxt = 0\n",
    "    vList.append(v)\n",
    "\n",
    "scatter(numTxtList, vList, xlabel=\"Number of Reviews\", ylabel=\"Average rating\")"
   ]
  },
  {
   "cell_type": "code",
   "execution_count": 29,
   "metadata": {},
   "outputs": [
    {
     "data": {
      "image/png": "[encoded data removed]",
      "text/plain": [
       "<Figure size 432x288 with 1 Axes>"
      ]
     },
     "metadata": {
      "needs_background": "light"
     },
     "output_type": "display_data"
    }
   ],
   "source": [
    "#q22\n",
    "newTxtList = []\n",
    "delNumList = []\n",
    "vList2 = []\n",
    "for i in range(len(numTxtList)):\n",
    "    if numTxtList[i] <= 500:\n",
    "        newTxtList.append(numTxtList[i])\n",
    "        for j in range(len(vList)):\n",
    "            if i == j:\n",
    "                vList2.append(vList[j])\n",
    "\n",
    "scatter(newTxtList, vList2, xlabel=\"Number of Reviews\", ylabel=\"Average rating\")"
   ]
  },
  {
   "cell_type": "code",
   "execution_count": 30,
   "metadata": {},
   "outputs": [],
   "source": [
    "import matplotlib, pandas\n",
    "def plot_dict(d, label=\"Number of reviews\", xlabel = \"Month\"):\n",
    "    ax = pandas.Series(d).sort_index().plot.bar(color=\"black\", fontsize=16)\n",
    "    ax.set_ylabel(label, fontsize=16)"
   ]
  },
  {
   "cell_type": "code",
   "execution_count": 31,
   "metadata": {},
   "outputs": [
    {
     "data": {
      "image/png": "[encoded data removed]",
      "text/plain": [
       "<Figure size 432x288 with 1 Axes>"
      ]
     },
     "metadata": {
      "needs_background": "light"
     },
     "output_type": "display_data"
    }
   ],
   "source": [
    "#q23\n",
    "def mon_numRev_relation(productName):\n",
    "    monList = []\n",
    "    monList2 = []\n",
    "    asinPro = \"\"\n",
    "    numMonRev = 0\n",
    "    numMonList = []\n",
    "    q23Dict = {}\n",
    "    for k,v in proDict.items():\n",
    "        if v == productName:\n",
    "            asinPro = k\n",
    "    for i in range(len(wholeList)):\n",
    "        if asinPro == getattr(wholeList[i], \"asin\"):\n",
    "            monList.append(int(getattr(wholeList[i], \"date\")[5:7]))\n",
    "    monList = list(set(monList))\n",
    "    for i in range(len(monList)):\n",
    "        if monList[i] < 10:\n",
    "            monList2.append(\"0\" + str(monList[i]))\n",
    "        else:\n",
    "            monList2.append(str(monList[i]))\n",
    "    for i in range(len(monList2)):\n",
    "        for j in range(len(wholeList)):\n",
    "            if getattr(wholeList[j], \"asin\") == asinPro:\n",
    "                if monList2[i] == getattr(wholeList[j], \"date\")[5:7]:\n",
    "                    numMonRev += 1\n",
    "        numMonList.append(numMonRev)\n",
    "        numMonRev = 0 \n",
    "    for i in range(len(monList2)):\n",
    "        for j in range(len(numMonList)):\n",
    "            if i == j:\n",
    "                q23Dict[monList2[i]] = numMonList[j]\n",
    "    return plot_dict(q23Dict)\n",
    "mon_numRev_relation( 'Fire Kids Edition Tablet, 7 Display, Wi-Fi, 16 GB, Pink Kid-Proof Case' )"
   ]
  },
  {
   "cell_type": "code",
   "execution_count": 32,
   "metadata": {},
   "outputs": [
    {
     "data": {
      "image/png": "[encoded data removed]",
      "text/plain": [
       "<Figure size 432x288 with 1 Axes>"
      ]
     },
     "metadata": {
      "needs_background": "light"
     },
     "output_type": "display_data"
    }
   ],
   "source": [
    "#q24\n",
    "mon_numRev_relation('Fire Tablet, 7 Display, Wi-Fi, 8 GB - Includes Special Offers, Magenta' )"
   ]
  },
  {
   "cell_type": "code",
   "execution_count": 36,
   "metadata": {},
   "outputs": [],
   "source": [
    "def find_subdir(path):\n",
    "    fileList1 = []\n",
    "    fileList2 = []\n",
    "    fileList3 = []\n",
    "   \n",
    "    pathList = []\n",
    "    pathList2 = []\n",
    "    if os.path.isdir(path) == True:\n",
    "        fileList1 = os.listdir(path) #open path to see if there are any subdir\n",
    "        \n",
    "        for i in range(len(fileList1)):\n",
    "            if os.path.isdir(os.path.join(path, fileList1[i])) == True: #check if subdir\n",
    "                #pathList.append(os.path.join(path, fileList1[i]))\n",
    "                pathList += find_subdir(os.path.join(path, fileList1[i]))\n",
    "                \n",
    "            else:\n",
    "                pathList.append(os.path.join(path,fileList1[i]))\n",
    "                \n",
    "    # delete all \".DS_Store\" of dir\n",
    "    for i in range(len(pathList)):\n",
    "        if \".DS_Store\" in pathList[i]:\n",
    "            continue\n",
    "        else:\n",
    "            pathList2.append(pathList[i])# delete all \".DS_Store\" of dir\n",
    "    return pathList2\n",
    "        \n",
    "                "
   ]
  },
  {
   "cell_type": "code",
   "execution_count": 37,
   "metadata": {},
   "outputs": [
    {
     "data": {
      "text/plain": [
       "['broken_file/rating4/very_helpful/very_helpful.json']"
      ]
     },
     "execution_count": 37,
     "metadata": {},
     "output_type": "execute_result"
    }
   ],
   "source": [
    "#q25\n",
    "find_subdir('broken_file/rating4/very_helpful')"
   ]
  },
  {
   "cell_type": "code",
   "execution_count": 41,
   "metadata": {},
   "outputs": [
    {
     "data": {
      "text/plain": [
       "['broken_file/rating5/others.json', 'broken_file/rating5/helpful/helpful.json']"
      ]
     },
     "execution_count": 41,
     "metadata": {},
     "output_type": "execute_result"
    }
   ],
   "source": [
    "#q26\n",
    "list26 = find_subdir('broken_file/rating5')\n",
    "sorted(list26,reverse = True)"
   ]
  },
  {
   "cell_type": "code",
   "execution_count": 43,
   "metadata": {},
   "outputs": [
    {
     "data": {
      "text/plain": [
       "['broken_file/rating5/others.json',\n",
       " 'broken_file/rating5/helpful/helpful.json',\n",
       " 'broken_file/rating4/very_helpful/very_helpful.json',\n",
       " 'broken_file/rating4/others/short/short.json',\n",
       " 'broken_file/rating4/others/others/others.json',\n",
       " 'broken_file/rating4/not_helpful.json',\n",
       " 'broken_file/rating3/others/others.json',\n",
       " 'broken_file/rating3/long/long.json',\n",
       " 'broken_file/others.json']"
      ]
     },
     "execution_count": 43,
     "metadata": {},
     "output_type": "execute_result"
    }
   ],
   "source": [
    "#q27\n",
    "brkList = find_subdir('broken_file')\n",
    "sorted(brkList, reverse = True)"
   ]
  },
  {
   "cell_type": "code",
   "execution_count": 53,
   "metadata": {},
   "outputs": [
    {
     "data": {
      "text/plain": [
       "1"
      ]
     },
     "execution_count": 53,
     "metadata": {},
     "output_type": "execute_result"
    }
   ],
   "source": [
    "#q28\n",
    "jsonDict = {}\n",
    "def read_brkjson_file(name):\n",
    "    f = open(name, encoding=\"utf-8\")\n",
    "    msg = f.read()\n",
    "    f.close()\n",
    "    return ast.literal_eval(msg)\n",
    "for i in range(len(brkList)):\n",
    "    jsonDict.update(read_brkjson_file(brkList[i]))\n",
    "asinList28 = []\n",
    "for k,v in jsonDict.items():\n",
    "    asinList28.append(v[1])\n",
    "asinList28 = list(set(asinList28))\n",
    "len(asinList28)"
   ]
  },
  {
   "cell_type": "code",
   "execution_count": 92,
   "metadata": {},
   "outputs": [
    {
     "data": {
      "text/plain": [
       "4995"
      ]
     },
     "execution_count": 92,
     "metadata": {},
     "output_type": "execute_result"
    }
   ],
   "source": [
    "#q29\n",
    "q29List = []\n",
    "json_str = json.dumps(jsonDict)\n",
    "f = open(\"data/broken_data.json\", \"w\", encoding=\"utf-8\")\n",
    "f.write(json_str)\n",
    "f.close()\n",
    "q29List = get_reviews(\"review3.csv\", \"broken_data.json\")\n",
    "os.remove('data/broken_data.json')\n",
    "len(wholeList)+len(q29List)"
   ]
  },
  {
   "cell_type": "code",
   "execution_count": 108,
   "metadata": {},
   "outputs": [
    {
     "data": {
      "text/plain": [
       "-0.039407079451942564"
      ]
     },
     "execution_count": 108,
     "metadata": {},
     "output_type": "execute_result"
    }
   ],
   "source": [
    "#q30\n",
    "newList = wholeList + q29List\n",
    "rate30 = 0\n",
    "num30 = 0\n",
    "avg30 = 0\n",
    "for k,v in proDict.items():\n",
    "        if v == \"Fire Tablet, 7 Display, Wi-Fi, 8 GB - Includes Special Offers, Magenta\":\n",
    "            asinPro = k\n",
    "for i in range(len(newList)):\n",
    "        if asinPro == getattr(newList[i], \"asin\"):\n",
    "            rate30 += getattr(newList[i], \"rating\")\n",
    "            num30 += 1\n",
    "avg30 = rate30/num30\n",
    "rateOld = 0\n",
    "numOld = 0\n",
    "avgOld = 0\n",
    "for i in range(len(wholeList)):\n",
    "    if asinPro == getattr(wholeList[i], \"asin\"):\n",
    "            rateOld += getattr(wholeList[i], \"rating\")\n",
    "            numOld += 1\n",
    "avgOld = rateOld/numOld\n",
    "((avg30-avgOld)/avgOld)*100"
   ]
  },
  {
   "cell_type": "code",
   "execution_count": 109,
   "metadata": {},
   "outputs": [],
   "source": [
    "# project: p9\n",
    "# submitter: stang63\n",
    "# partner: None\n"
   ]
  },
  {
   "cell_type": "code",
   "execution_count": null,
   "metadata": {},
   "outputs": [],
   "source": []
  }
 ],
 "metadata": {
  "kernelspec": {
   "display_name": "Python 3",
   "language": "python",
   "name": "python3"
  },
  "language_info": {
   "codemirror_mode": {
    "name": "ipython",
    "version": 3
   },
   "file_extension": ".py",
   "mimetype": "text/x-python",
   "name": "python",
   "nbconvert_exporter": "python",
   "pygments_lexer": "ipython3",
   "version": "3.8.1"
  }
 },
 "nbformat": 4,
 "nbformat_minor": 4
}
